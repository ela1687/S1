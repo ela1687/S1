{
 "cells": [
  {
   "cell_type": "markdown",
   "metadata": {},
   "source": [
    "Série d'exercice n°1\n",
    "=="
   ]
  },
  {
   "cell_type": "markdown",
   "metadata": {},
   "source": [
    "**Exercice n°1:**"
   ]
  },
  {
   "cell_type": "markdown",
   "metadata": {},
   "source": [
    "Réaliser un programme permettant de simuler le lancer d'un dé.  \n",
    "Le programme permettra d'afficher \"gagné\" si le chiffre sorti  \n",
    "est strictement inférieur à 3 ou égal à 6 et d'afficher \"perdu\"   \n",
    "dans les autres cas."
   ]
  },
  {
   "cell_type": "code",
   "execution_count": 11,
   "metadata": {},
   "outputs": [
    {
     "name": "stdout",
     "output_type": "stream",
     "text": [
      "1\n",
      "Gagné!\n"
     ]
    }
   ],
   "source": [
    "from random import*\n",
    "\n",
    "d=randint(1,6)\n",
    "\n",
    "print(d)\n",
    "\n",
    "if d<3 or d==6:\n",
    "    print(\"Gagné!\")\n",
    "else:\n",
    "    print(\"Perdu.\")"
   ]
  },
  {
   "cell_type": "markdown",
   "metadata": {},
   "source": [
    "**Exercice n°2:**"
   ]
  },
  {
   "cell_type": "markdown",
   "metadata": {},
   "source": [
    "Écrire un programme permettant de simuler 100 lancers d'un dé équilibré  \n",
    "et d'afficher la fréquence de sortie du 4."
   ]
  },
  {
   "cell_type": "code",
   "execution_count": null,
   "metadata": {},
   "outputs": [],
   "source": [
    "from random import*\n",
    "\n",
    "compteur=0\n",
    "frequence=0\n",
    "\n",
    "for i in range(100):\n",
    "    d=randint(1,6)\n",
    "    if d==4:\n",
    "        compteur=compteur+1\n",
    "        \n",
    "frequence=compteur/100\n",
    "\n",
    "print(\"La fréquence observée du 4 est: \", frequence)\n"
   ]
  },
  {
   "cell_type": "code",
   "execution_count": null,
   "metadata": {},
   "outputs": [],
   "source": []
  }
 ],
 "metadata": {
  "kernelspec": {
   "display_name": "Python 3",
   "language": "python",
   "name": "python3"
  },
  "language_info": {
   "codemirror_mode": {
    "name": "ipython",
    "version": 3
   },
   "file_extension": ".py",
   "mimetype": "text/x-python",
   "name": "python",
   "nbconvert_exporter": "python",
   "pygments_lexer": "ipython3",
   "version": "3.7.0"
  }
 },
 "nbformat": 4,
 "nbformat_minor": 2
}
